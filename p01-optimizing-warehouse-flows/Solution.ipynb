{
 "cells": [
  {
   "cell_type": "code",
   "execution_count": 3,
   "id": "0f3a1cee-b67c-4d18-a318-e3d73ec1ee94",
   "metadata": {},
   "outputs": [],
   "source": [
    "import numpy as np"
   ]
  },
  {
   "cell_type": "code",
   "execution_count": null,
   "id": "abd5d48b-bc6d-427f-90c9-7d93910cc4b1",
   "metadata": {},
   "outputs": [],
   "source": []
  },
  {
   "cell_type": "code",
   "execution_count": 4,
   "id": "f5e7b886-5bed-4216-a113-11b9f17e7858",
   "metadata": {},
   "outputs": [],
   "source": []
  },
  {
   "cell_type": "code",
   "execution_count": 130,
   "id": "9e519d8c-f7d3-4f95-8721-ca7244ea0da1",
   "metadata": {},
   "outputs": [],
   "source": [
    "gamma = 0.75\n",
    "alpha = 0.9\n",
    "location_to_state = {'A': 0,\n",
    "                     'B': 1,\n",
    "                     'C': 2,\n",
    "                     'D': 3,\n",
    "                     'E': 4,\n",
    "                     'F': 5,\n",
    "                     'G': 6,\n",
    "                     'H': 7,\n",
    "                     'I': 8,\n",
    "                     'J': 9,\n",
    "                     'K': 10,\n",
    "                     'L': 11}\n",
    "state_to_location = {state: loc for loc, state in location_to_state.items()}\n",
    "N = len(location_to_state)\n",
    "\n",
    "# Defining the actions\n",
    "actions = [0,1,2,3,4,5,6,7,8,9,10,11]"
   ]
  },
  {
   "cell_type": "code",
   "execution_count": 131,
   "id": "6c2499b1-8155-40bf-ba6b-4ccddb07bcea",
   "metadata": {},
   "outputs": [],
   "source": [
    "# Defining the rewards\n",
    "Reward = None\n",
    "\n",
    "# Defining the rewards\n",
    "RewardOriginal = np.array([[0,1,0,0,0,0,0,0,0,0,0,0],\n",
    "              [1,0,1,0,0,1,0,0,0,0,0,0],\n",
    "              [0,1,0,0,0,0,1,0,0,0,0,0],\n",
    "              [0,0,0,0,0,0,0,1,0,0,0,0],\n",
    "              [0,0,0,0,0,0,0,0,1,0,0,0],\n",
    "              [0,1,0,0,0,0,0,0,0,1,0,0],\n",
    "              [0,0,1,0,0,0,1,1,0,0,0,0],\n",
    "              [0,0,0,1,0,0,1,0,0,0,0,1],\n",
    "              [0,0,0,0,1,0,0,0,0,1,0,0],\n",
    "              [0,0,0,0,0,1,0,0,1,0,1,0],\n",
    "              [0,0,0,0,0,0,0,0,0,1,0,1],\n",
    "              [0,0,0,0,0,0,0,1,0,0,1,0]])"
   ]
  },
  {
   "cell_type": "code",
   "execution_count": 132,
   "id": "7b116b28-324b-4056-8cb5-ca68d14a4f32",
   "metadata": {},
   "outputs": [
    {
     "ename": "SyntaxError",
     "evalue": "invalid syntax (1960691789.py, line 3)",
     "output_type": "error",
     "traceback": [
      "\u001b[0;36m  Cell \u001b[0;32mIn[132], line 3\u001b[0;36m\u001b[0m\n\u001b[0;31m    Q = np.array(np.zeros([N, N]))op\u001b[0m\n\u001b[0m                                  ^\u001b[0m\n\u001b[0;31mSyntaxError\u001b[0m\u001b[0;31m:\u001b[0m invalid syntax\n"
     ]
    }
   ],
   "source": [
    "# PART 2 - BUILDING THE AI SOLUTION WITH Q-LEARNING\n",
    "# Initializing the Q-Values\n",
    "Q = np.array(np.zeros([N, N]))op\n",
    "\n",
    "# Implementing the Q-Learning process\n",
    "def init(top_priority_loc):\n",
    "    global Q\n",
    "    Reward = RewardOriginal.copy()\n",
    "    Q = np.array(np.zeros([N, N]))\n",
    "    Reward[top_priority_loc, top_priority_loc] = 1000\n",
    "\n",
    "    for learning_iteration in range(1000):\n",
    "        current_state = np.random.randint(0, N)\n",
    "        playable_actions = []\n",
    "        for j in range(N):\n",
    "            if Reward[current_state, j] > 0:\n",
    "                playable_actions.append(j)\n",
    "        next_state = np.random.choice(playable_actions)\n",
    "        Q_value = (\n",
    "            Reward[current_state, next_state]\n",
    "            + gamma * Q[next_state, np.argmax(Q[next_state,])]\n",
    "        )\n",
    "        Temporal_Difference = (\n",
    "            Q_value\n",
    "            - Q[current_state, next_state]\n",
    "        )\n",
    "        Q[current_state, next_state] = Q[current_state, next_state] + (alpha * Temporal_Difference)\n",
    "\n",
    "\n",
    "def route(start_loc, end_loc):\n",
    "    route = [start_loc]\n",
    "    next_loc = start_loc\n",
    "    init(location_to_state[end_loc])\n",
    "    while (next_loc != end_loc):\n",
    "        start_state = location_to_state[start_loc]\n",
    "        next_state = np.argmax(Q[start_state,])\n",
    "        next_loc = state_to_location[next_state]\n",
    "        route.append(next_loc)\n",
    "        start_loc = next_loc\n",
    "    return route\n"
   ]
  },
  {
   "cell_type": "code",
   "execution_count": 133,
   "id": "3d8840a2-8b08-4d4b-9be0-4f46bfcd0276",
   "metadata": {},
   "outputs": [
    {
     "data": {
      "text/plain": [
       "['E', 'I', 'J', 'K', 'L', 'H', 'G']"
      ]
     },
     "execution_count": 133,
     "metadata": {},
     "output_type": "execute_result"
    }
   ],
   "source": [
    "route('E', 'G')"
   ]
  },
  {
   "cell_type": "code",
   "execution_count": 134,
   "id": "1cdadd8e-9eb3-40db-b551-cde43c649a72",
   "metadata": {},
   "outputs": [
    {
     "data": {
      "text/plain": [
       "['D', 'H', 'G']"
      ]
     },
     "execution_count": 134,
     "metadata": {},
     "output_type": "execute_result"
    }
   ],
   "source": [
    "route('D', 'G')"
   ]
  },
  {
   "cell_type": "code",
   "execution_count": 135,
   "id": "690b97a6-e0c2-4ab0-ac6b-99c4432b0890",
   "metadata": {},
   "outputs": [
    {
     "data": {
      "text/plain": [
       "['A', 'B', 'C', 'G']"
      ]
     },
     "execution_count": 135,
     "metadata": {},
     "output_type": "execute_result"
    }
   ],
   "source": [
    "route('A', 'G')"
   ]
  },
  {
   "cell_type": "code",
   "execution_count": 136,
   "id": "e0f0179d-d276-42b2-9a54-7844ee372bd1",
   "metadata": {},
   "outputs": [
    {
     "data": {
      "text/plain": [
       "['K', 'L', 'H', 'G']"
      ]
     },
     "execution_count": 136,
     "metadata": {},
     "output_type": "execute_result"
    }
   ],
   "source": [
    "route('K', 'G')"
   ]
  },
  {
   "cell_type": "code",
   "execution_count": null,
   "id": "6d354324-4c7f-470d-a2fd-21c87a5408b4",
   "metadata": {},
   "outputs": [],
   "source": []
  },
  {
   "cell_type": "code",
   "execution_count": 137,
   "id": "bf361d5e-e7d4-41ec-b2e0-b6aa3bd50ac2",
   "metadata": {},
   "outputs": [],
   "source": [
    "# Optimization: \n",
    "# - automate reward attribution to top priority location\n",
    "#- give option to go through an intermediary location"
   ]
  },
  {
   "cell_type": "code",
   "execution_count": 138,
   "id": "3ed0d85a-513e-400d-a85e-ae17dc0fa86f",
   "metadata": {},
   "outputs": [
    {
     "name": "stdout",
     "output_type": "stream",
     "text": [
      "['F', 'B', 'C', 'G', 'H', 'D', 'H', 'L', 'K', 'J']\n"
     ]
    }
   ],
   "source": [
    "print((route('F', 'D') + route('D', 'J')[1:]))"
   ]
  },
  {
   "cell_type": "code",
   "execution_count": null,
   "id": "2861ba09-ae5d-4b11-83b3-7782cc42f8d6",
   "metadata": {},
   "outputs": [],
   "source": []
  },
  {
   "cell_type": "code",
   "execution_count": null,
   "id": "e0fbc1f6-4aeb-46e4-846a-b0afea845415",
   "metadata": {},
   "outputs": [],
   "source": []
  },
  {
   "cell_type": "code",
   "execution_count": null,
   "id": "c2729114-c7d1-4ef4-9722-433f2fb54051",
   "metadata": {},
   "outputs": [],
   "source": []
  },
  {
   "cell_type": "code",
   "execution_count": null,
   "id": "7dc9a14e-b1e7-46ae-a370-4ca849a52215",
   "metadata": {},
   "outputs": [],
   "source": []
  }
 ],
 "metadata": {
  "kernelspec": {
   "display_name": "Python 3 (ipykernel)",
   "language": "python",
   "name": "python3"
  },
  "language_info": {
   "codemirror_mode": {
    "name": "ipython",
    "version": 3
   },
   "file_extension": ".py",
   "mimetype": "text/x-python",
   "name": "python",
   "nbconvert_exporter": "python",
   "pygments_lexer": "ipython3",
   "version": "3.12.0"
  }
 },
 "nbformat": 4,
 "nbformat_minor": 5
}
